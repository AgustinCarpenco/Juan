{
 "cells": [
  {
   "cell_type": "code",
   "execution_count": 1,
   "id": "6f609699",
   "metadata": {},
   "outputs": [],
   "source": [
    "# Configuración\n",
    "import pandas as pd\n",
    "import warnings\n",
    "warnings.filterwarnings(\"ignore\")\n",
    "warnings.simplefilter(action='ignore', category=FutureWarning)\n",
    "pd.set_option('display.max_columns', None)\n",
    "pd.set_option('display.max_rows', None)"
   ]
  },
  {
   "cell_type": "code",
   "execution_count": 2,
   "id": "9a4e124e",
   "metadata": {},
   "outputs": [],
   "source": [
    "import pandas as pd\n",
    "import numpy as np\n",
    "from sklearn.impute import SimpleImputer\n",
    "from sklearn.preprocessing import StandardScaler\n",
    "import matplotlib.pyplot as plt\n",
    "import seaborn as sns\n",
    "from datetime import datetime\n",
    "import re"
   ]
  },
  {
   "cell_type": "code",
   "execution_count": 3,
   "id": "01cb221a",
   "metadata": {},
   "outputs": [
    {
     "data": {
      "text/html": [
       "<div>\n",
       "<style scoped>\n",
       "    .dataframe tbody tr th:only-of-type {\n",
       "        vertical-align: middle;\n",
       "    }\n",
       "\n",
       "    .dataframe tbody tr th {\n",
       "        vertical-align: top;\n",
       "    }\n",
       "\n",
       "    .dataframe thead th {\n",
       "        text-align: right;\n",
       "    }\n",
       "</style>\n",
       "<table border=\"1\" class=\"dataframe\">\n",
       "  <thead>\n",
       "    <tr style=\"text-align: right;\">\n",
       "      <th></th>\n",
       "      <th>JUGADOR</th>\n",
       "      <th>FECHA</th>\n",
       "      <th>FECHA DE ALTA</th>\n",
       "      <th>TIPO DE LESION</th>\n",
       "      <th>REGION</th>\n",
       "      <th>DIAGNOSTICO</th>\n",
       "      <th>LATERALIDAD</th>\n",
       "      <th>DIAS FUERA</th>\n",
       "    </tr>\n",
       "  </thead>\n",
       "  <tbody>\n",
       "    <tr>\n",
       "      <th>0</th>\n",
       "      <td>CASTET FACUNDO</td>\n",
       "      <td>2024-01-18</td>\n",
       "      <td>2024-01-20</td>\n",
       "      <td>MUSCULOTENDINOSA</td>\n",
       "      <td>ISQUIOTIBIALES</td>\n",
       "      <td>EDEMA INTERFIBRILAR BICEPS FEMORAL DERECHO</td>\n",
       "      <td>DERECHO</td>\n",
       "      <td>2</td>\n",
       "    </tr>\n",
       "    <tr>\n",
       "      <th>1</th>\n",
       "      <td>GIMENEZ TOMAS</td>\n",
       "      <td>2024-01-11</td>\n",
       "      <td>2024-02-06</td>\n",
       "      <td>ARTICULAR</td>\n",
       "      <td>RODILLA</td>\n",
       "      <td>RUPTURA EN ASA DE BALDE DEL MENISCO INTERNO DE...</td>\n",
       "      <td>IZQUIERDO</td>\n",
       "      <td>26</td>\n",
       "    </tr>\n",
       "    <tr>\n",
       "      <th>2</th>\n",
       "      <td>CASTET FACUNDO</td>\n",
       "      <td>2024-03-06</td>\n",
       "      <td>2024-03-07</td>\n",
       "      <td>ARTICULAR</td>\n",
       "      <td>RODILLA</td>\n",
       "      <td>MINIMO EDEMA INTERFIBRILAR Y PERI FASCIAL A NI...</td>\n",
       "      <td>IZQUIERDO</td>\n",
       "      <td>1</td>\n",
       "    </tr>\n",
       "    <tr>\n",
       "      <th>3</th>\n",
       "      <td>CASTET FACUNDO</td>\n",
       "      <td>2024-10-07</td>\n",
       "      <td>2024-11-08</td>\n",
       "      <td>ARTICULAR</td>\n",
       "      <td>TOBILLO</td>\n",
       "      <td>ESGUINCE SEVERO PAA, ESGUINCE MODERADO CON RUP...</td>\n",
       "      <td>DERECHO</td>\n",
       "      <td>32</td>\n",
       "    </tr>\n",
       "    <tr>\n",
       "      <th>4</th>\n",
       "      <td>GIMENEZ AGUSTIN</td>\n",
       "      <td>2024-11-12</td>\n",
       "      <td>2024-11-19</td>\n",
       "      <td>OTRA</td>\n",
       "      <td>PIE</td>\n",
       "      <td>EDEMA EN DIAFISIS DEL 2DO, 3ER Y 4TO MTT</td>\n",
       "      <td>DERECHO</td>\n",
       "      <td>7</td>\n",
       "    </tr>\n",
       "  </tbody>\n",
       "</table>\n",
       "</div>"
      ],
      "text/plain": [
       "           JUGADOR      FECHA FECHA DE ALTA    TIPO DE LESION          REGION  \\\n",
       "0   CASTET FACUNDO 2024-01-18    2024-01-20  MUSCULOTENDINOSA  ISQUIOTIBIALES   \n",
       "1    GIMENEZ TOMAS 2024-01-11    2024-02-06         ARTICULAR         RODILLA   \n",
       "2   CASTET FACUNDO 2024-03-06    2024-03-07         ARTICULAR         RODILLA   \n",
       "3   CASTET FACUNDO 2024-10-07    2024-11-08         ARTICULAR         TOBILLO   \n",
       "4  GIMENEZ AGUSTIN 2024-11-12    2024-11-19              OTRA             PIE   \n",
       "\n",
       "                                         DIAGNOSTICO LATERALIDAD  DIAS FUERA  \n",
       "0         EDEMA INTERFIBRILAR BICEPS FEMORAL DERECHO     DERECHO           2  \n",
       "1  RUPTURA EN ASA DE BALDE DEL MENISCO INTERNO DE...   IZQUIERDO          26  \n",
       "2  MINIMO EDEMA INTERFIBRILAR Y PERI FASCIAL A NI...   IZQUIERDO           1  \n",
       "3  ESGUINCE SEVERO PAA, ESGUINCE MODERADO CON RUP...     DERECHO          32  \n",
       "4           EDEMA EN DIAFISIS DEL 2DO, 3ER Y 4TO MTT     DERECHO           7  "
      ]
     },
     "execution_count": 3,
     "metadata": {},
     "output_type": "execute_result"
    }
   ],
   "source": [
    "#leer archivos\n",
    "df = pd.read_excel('/Users/agustin/Documents/Agustin_2025/Juan Colon/analisis.ipynb/ACTUALES LESIONES PLANTEL 2026.xlsx')\n",
    "df.head()"
   ]
  },
  {
   "cell_type": "code",
   "execution_count": 18,
   "id": "aa701c90",
   "metadata": {},
   "outputs": [
    {
     "name": "stdout",
     "output_type": "stream",
     "text": [
      "✅ Estructura del archivo correcta, podés continuar.\n"
     ]
    }
   ],
   "source": [
    "# Control rápido de estructura esperada\n",
    "expected_cols = {'jugador', 'fecha', 'fecha_de_alta', 'tipo_de_lesion',\n",
    "                 'region', 'diagnostico', 'lateralidad', 'dias_fuera'}\n",
    "\n",
    "current_cols = set(df.columns)\n",
    "if not expected_cols.issubset(current_cols):\n",
    "    raise ValueError(f\"⚠️ Columnas inesperadas. El archivo tiene: {list(df.columns)}\")\n",
    "else:\n",
    "    print(\"✅ Estructura del archivo correcta, podés continuar.\")\n"
   ]
  },
  {
   "cell_type": "code",
   "execution_count": 4,
   "id": "ac36830d",
   "metadata": {},
   "outputs": [
    {
     "data": {
      "text/plain": [
       "(58, 8)"
      ]
     },
     "execution_count": 4,
     "metadata": {},
     "output_type": "execute_result"
    }
   ],
   "source": [
    "# Ver filas y columnas\n",
    "df.shape"
   ]
  },
  {
   "cell_type": "code",
   "execution_count": 5,
   "id": "91e6cd67",
   "metadata": {},
   "outputs": [
    {
     "data": {
      "text/plain": [
       "Index(['jugador', 'fecha', 'fecha_de_alta', 'tipo_de_lesion', 'region',\n",
       "       'diagnostico', 'lateralidad', 'dias_fuera'],\n",
       "      dtype='object')"
      ]
     },
     "execution_count": 5,
     "metadata": {},
     "output_type": "execute_result"
    }
   ],
   "source": [
    "# Limpiar nombres de columnas\n",
    "df.columns = (\n",
    "    df.columns\n",
    "    .str.strip()\n",
    "    .str.lower()\n",
    "    .str.replace(\" \", \"_\")     \n",
    "    .str.replace(\"á\", \"a\")\n",
    "    .str.replace(\"é\", \"e\")\n",
    "    .str.replace(\"í\", \"i\")\n",
    "    .str.replace(\"ó\", \"o\")\n",
    "    .str.replace(\"ú\", \"u\")\n",
    ")\n",
    "df.columns"
   ]
  },
  {
   "cell_type": "code",
   "execution_count": 6,
   "id": "ad195b81",
   "metadata": {},
   "outputs": [
    {
     "name": "stdout",
     "output_type": "stream",
     "text": [
      "<class 'pandas.core.frame.DataFrame'>\n",
      "RangeIndex: 58 entries, 0 to 57\n",
      "Data columns (total 8 columns):\n",
      " #   Column          Non-Null Count  Dtype         \n",
      "---  ------          --------------  -----         \n",
      " 0   jugador         42 non-null     object        \n",
      " 1   fecha           42 non-null     datetime64[ns]\n",
      " 2   fecha_de_alta   36 non-null     datetime64[ns]\n",
      " 3   tipo_de_lesion  42 non-null     object        \n",
      " 4   region          42 non-null     object        \n",
      " 5   diagnostico     42 non-null     object        \n",
      " 6   lateralidad     42 non-null     object        \n",
      " 7   dias_fuera      58 non-null     int64         \n",
      "dtypes: datetime64[ns](2), int64(1), object(5)\n",
      "memory usage: 3.8+ KB\n"
     ]
    }
   ],
   "source": [
    "# Tipo de datos y valores faltantes\n",
    "df.info()"
   ]
  },
  {
   "cell_type": "code",
   "execution_count": 7,
   "id": "d928204e",
   "metadata": {},
   "outputs": [
    {
     "data": {
      "text/plain": [
       "jugador           16\n",
       "fecha             16\n",
       "fecha_de_alta     22\n",
       "tipo_de_lesion    16\n",
       "region            16\n",
       "diagnostico       16\n",
       "lateralidad       16\n",
       "dias_fuera         0\n",
       "dtype: int64"
      ]
     },
     "execution_count": 7,
     "metadata": {},
     "output_type": "execute_result"
    }
   ],
   "source": [
    "# Valores faltantes por columnas\n",
    "df.isnull().sum()"
   ]
  },
  {
   "cell_type": "code",
   "execution_count": 8,
   "id": "fb37d191",
   "metadata": {},
   "outputs": [
    {
     "data": {
      "text/html": [
       "<div>\n",
       "<style scoped>\n",
       "    .dataframe tbody tr th:only-of-type {\n",
       "        vertical-align: middle;\n",
       "    }\n",
       "\n",
       "    .dataframe tbody tr th {\n",
       "        vertical-align: top;\n",
       "    }\n",
       "\n",
       "    .dataframe thead th {\n",
       "        text-align: right;\n",
       "    }\n",
       "</style>\n",
       "<table border=\"1\" class=\"dataframe\">\n",
       "  <thead>\n",
       "    <tr style=\"text-align: right;\">\n",
       "      <th></th>\n",
       "      <th>jugador</th>\n",
       "      <th>fecha</th>\n",
       "      <th>fecha_de_alta</th>\n",
       "      <th>tipo_de_lesion</th>\n",
       "      <th>region</th>\n",
       "      <th>diagnostico</th>\n",
       "      <th>lateralidad</th>\n",
       "      <th>dias_fuera</th>\n",
       "    </tr>\n",
       "  </thead>\n",
       "  <tbody>\n",
       "    <tr>\n",
       "      <th>24</th>\n",
       "      <td>BETTINI GONZALO</td>\n",
       "      <td>2025-09-22</td>\n",
       "      <td>NaT</td>\n",
       "      <td>MUSCULOTENDINOSA</td>\n",
       "      <td>CUADRICEPS</td>\n",
       "      <td>3A RAC DER</td>\n",
       "      <td>DERECHO</td>\n",
       "      <td>-45922</td>\n",
       "    </tr>\n",
       "    <tr>\n",
       "      <th>25</th>\n",
       "      <td>CASTRO FACUNDO</td>\n",
       "      <td>2025-09-22</td>\n",
       "      <td>NaT</td>\n",
       "      <td>OTRA</td>\n",
       "      <td>PIE</td>\n",
       "      <td>ESPOLON CALCANEO + FASCITIS PLANTAR (IZQ)</td>\n",
       "      <td>IZQUIERDO</td>\n",
       "      <td>-45922</td>\n",
       "    </tr>\n",
       "    <tr>\n",
       "      <th>26</th>\n",
       "      <td>GALLAY TOMAS</td>\n",
       "      <td>2025-09-05</td>\n",
       "      <td>NaT</td>\n",
       "      <td>MUSCULOTENDINOSA</td>\n",
       "      <td>ISQUIOTIBIALES</td>\n",
       "      <td>2B SEMIMEMBRANOSO PROXIMAL IZQ</td>\n",
       "      <td>IZQUIERDO</td>\n",
       "      <td>-45905</td>\n",
       "    </tr>\n",
       "    <tr>\n",
       "      <th>27</th>\n",
       "      <td>GIMENEZ AGUSTIN</td>\n",
       "      <td>2025-07-25</td>\n",
       "      <td>NaT</td>\n",
       "      <td>MUSCULOTENDINOSA</td>\n",
       "      <td>CUADRICEPS</td>\n",
       "      <td>2C RAC PROXIMAL DER</td>\n",
       "      <td>DERECHO</td>\n",
       "      <td>-45863</td>\n",
       "    </tr>\n",
       "    <tr>\n",
       "      <th>28</th>\n",
       "      <td>IBARRA CONRADO</td>\n",
       "      <td>2025-10-15</td>\n",
       "      <td>NaT</td>\n",
       "      <td>MUSCULOTENDINOSA</td>\n",
       "      <td>PIE</td>\n",
       "      <td>EDEMA DE PARTES BLANDAS DORSALES DEL MEDIOPIE</td>\n",
       "      <td>DERECHO</td>\n",
       "      <td>-45945</td>\n",
       "    </tr>\n",
       "    <tr>\n",
       "      <th>29</th>\n",
       "      <td>SOTO GONZALO</td>\n",
       "      <td>2025-09-27</td>\n",
       "      <td>NaT</td>\n",
       "      <td>MUSCULOTENDINOSA</td>\n",
       "      <td>ADUCTORES</td>\n",
       "      <td>2B ADUCTOR LARGO IZQ</td>\n",
       "      <td>IZQUIERDO</td>\n",
       "      <td>-45927</td>\n",
       "    </tr>\n",
       "    <tr>\n",
       "      <th>42</th>\n",
       "      <td>NaN</td>\n",
       "      <td>NaT</td>\n",
       "      <td>NaT</td>\n",
       "      <td>NaN</td>\n",
       "      <td>NaN</td>\n",
       "      <td>NaN</td>\n",
       "      <td>NaN</td>\n",
       "      <td>0</td>\n",
       "    </tr>\n",
       "    <tr>\n",
       "      <th>43</th>\n",
       "      <td>NaN</td>\n",
       "      <td>NaT</td>\n",
       "      <td>NaT</td>\n",
       "      <td>NaN</td>\n",
       "      <td>NaN</td>\n",
       "      <td>NaN</td>\n",
       "      <td>NaN</td>\n",
       "      <td>0</td>\n",
       "    </tr>\n",
       "    <tr>\n",
       "      <th>44</th>\n",
       "      <td>NaN</td>\n",
       "      <td>NaT</td>\n",
       "      <td>NaT</td>\n",
       "      <td>NaN</td>\n",
       "      <td>NaN</td>\n",
       "      <td>NaN</td>\n",
       "      <td>NaN</td>\n",
       "      <td>0</td>\n",
       "    </tr>\n",
       "    <tr>\n",
       "      <th>45</th>\n",
       "      <td>NaN</td>\n",
       "      <td>NaT</td>\n",
       "      <td>NaT</td>\n",
       "      <td>NaN</td>\n",
       "      <td>NaN</td>\n",
       "      <td>NaN</td>\n",
       "      <td>NaN</td>\n",
       "      <td>0</td>\n",
       "    </tr>\n",
       "    <tr>\n",
       "      <th>46</th>\n",
       "      <td>NaN</td>\n",
       "      <td>NaT</td>\n",
       "      <td>NaT</td>\n",
       "      <td>NaN</td>\n",
       "      <td>NaN</td>\n",
       "      <td>NaN</td>\n",
       "      <td>NaN</td>\n",
       "      <td>0</td>\n",
       "    </tr>\n",
       "    <tr>\n",
       "      <th>47</th>\n",
       "      <td>NaN</td>\n",
       "      <td>NaT</td>\n",
       "      <td>NaT</td>\n",
       "      <td>NaN</td>\n",
       "      <td>NaN</td>\n",
       "      <td>NaN</td>\n",
       "      <td>NaN</td>\n",
       "      <td>0</td>\n",
       "    </tr>\n",
       "    <tr>\n",
       "      <th>48</th>\n",
       "      <td>NaN</td>\n",
       "      <td>NaT</td>\n",
       "      <td>NaT</td>\n",
       "      <td>NaN</td>\n",
       "      <td>NaN</td>\n",
       "      <td>NaN</td>\n",
       "      <td>NaN</td>\n",
       "      <td>0</td>\n",
       "    </tr>\n",
       "    <tr>\n",
       "      <th>49</th>\n",
       "      <td>NaN</td>\n",
       "      <td>NaT</td>\n",
       "      <td>NaT</td>\n",
       "      <td>NaN</td>\n",
       "      <td>NaN</td>\n",
       "      <td>NaN</td>\n",
       "      <td>NaN</td>\n",
       "      <td>0</td>\n",
       "    </tr>\n",
       "    <tr>\n",
       "      <th>50</th>\n",
       "      <td>NaN</td>\n",
       "      <td>NaT</td>\n",
       "      <td>NaT</td>\n",
       "      <td>NaN</td>\n",
       "      <td>NaN</td>\n",
       "      <td>NaN</td>\n",
       "      <td>NaN</td>\n",
       "      <td>0</td>\n",
       "    </tr>\n",
       "    <tr>\n",
       "      <th>51</th>\n",
       "      <td>NaN</td>\n",
       "      <td>NaT</td>\n",
       "      <td>NaT</td>\n",
       "      <td>NaN</td>\n",
       "      <td>NaN</td>\n",
       "      <td>NaN</td>\n",
       "      <td>NaN</td>\n",
       "      <td>0</td>\n",
       "    </tr>\n",
       "    <tr>\n",
       "      <th>52</th>\n",
       "      <td>NaN</td>\n",
       "      <td>NaT</td>\n",
       "      <td>NaT</td>\n",
       "      <td>NaN</td>\n",
       "      <td>NaN</td>\n",
       "      <td>NaN</td>\n",
       "      <td>NaN</td>\n",
       "      <td>0</td>\n",
       "    </tr>\n",
       "    <tr>\n",
       "      <th>53</th>\n",
       "      <td>NaN</td>\n",
       "      <td>NaT</td>\n",
       "      <td>NaT</td>\n",
       "      <td>NaN</td>\n",
       "      <td>NaN</td>\n",
       "      <td>NaN</td>\n",
       "      <td>NaN</td>\n",
       "      <td>0</td>\n",
       "    </tr>\n",
       "    <tr>\n",
       "      <th>54</th>\n",
       "      <td>NaN</td>\n",
       "      <td>NaT</td>\n",
       "      <td>NaT</td>\n",
       "      <td>NaN</td>\n",
       "      <td>NaN</td>\n",
       "      <td>NaN</td>\n",
       "      <td>NaN</td>\n",
       "      <td>0</td>\n",
       "    </tr>\n",
       "    <tr>\n",
       "      <th>55</th>\n",
       "      <td>NaN</td>\n",
       "      <td>NaT</td>\n",
       "      <td>NaT</td>\n",
       "      <td>NaN</td>\n",
       "      <td>NaN</td>\n",
       "      <td>NaN</td>\n",
       "      <td>NaN</td>\n",
       "      <td>0</td>\n",
       "    </tr>\n",
       "    <tr>\n",
       "      <th>56</th>\n",
       "      <td>NaN</td>\n",
       "      <td>NaT</td>\n",
       "      <td>NaT</td>\n",
       "      <td>NaN</td>\n",
       "      <td>NaN</td>\n",
       "      <td>NaN</td>\n",
       "      <td>NaN</td>\n",
       "      <td>0</td>\n",
       "    </tr>\n",
       "    <tr>\n",
       "      <th>57</th>\n",
       "      <td>NaN</td>\n",
       "      <td>NaT</td>\n",
       "      <td>NaT</td>\n",
       "      <td>NaN</td>\n",
       "      <td>NaN</td>\n",
       "      <td>NaN</td>\n",
       "      <td>NaN</td>\n",
       "      <td>0</td>\n",
       "    </tr>\n",
       "  </tbody>\n",
       "</table>\n",
       "</div>"
      ],
      "text/plain": [
       "            jugador      fecha fecha_de_alta    tipo_de_lesion  \\\n",
       "24  BETTINI GONZALO 2025-09-22           NaT  MUSCULOTENDINOSA   \n",
       "25   CASTRO FACUNDO 2025-09-22           NaT              OTRA   \n",
       "26     GALLAY TOMAS 2025-09-05           NaT  MUSCULOTENDINOSA   \n",
       "27  GIMENEZ AGUSTIN 2025-07-25           NaT  MUSCULOTENDINOSA   \n",
       "28   IBARRA CONRADO 2025-10-15           NaT  MUSCULOTENDINOSA   \n",
       "29     SOTO GONZALO 2025-09-27           NaT  MUSCULOTENDINOSA   \n",
       "42              NaN        NaT           NaT               NaN   \n",
       "43              NaN        NaT           NaT               NaN   \n",
       "44              NaN        NaT           NaT               NaN   \n",
       "45              NaN        NaT           NaT               NaN   \n",
       "46              NaN        NaT           NaT               NaN   \n",
       "47              NaN        NaT           NaT               NaN   \n",
       "48              NaN        NaT           NaT               NaN   \n",
       "49              NaN        NaT           NaT               NaN   \n",
       "50              NaN        NaT           NaT               NaN   \n",
       "51              NaN        NaT           NaT               NaN   \n",
       "52              NaN        NaT           NaT               NaN   \n",
       "53              NaN        NaT           NaT               NaN   \n",
       "54              NaN        NaT           NaT               NaN   \n",
       "55              NaN        NaT           NaT               NaN   \n",
       "56              NaN        NaT           NaT               NaN   \n",
       "57              NaN        NaT           NaT               NaN   \n",
       "\n",
       "            region                                    diagnostico lateralidad  \\\n",
       "24      CUADRICEPS                                     3A RAC DER     DERECHO   \n",
       "25             PIE      ESPOLON CALCANEO + FASCITIS PLANTAR (IZQ)   IZQUIERDO   \n",
       "26  ISQUIOTIBIALES                 2B SEMIMEMBRANOSO PROXIMAL IZQ   IZQUIERDO   \n",
       "27      CUADRICEPS                            2C RAC PROXIMAL DER     DERECHO   \n",
       "28             PIE  EDEMA DE PARTES BLANDAS DORSALES DEL MEDIOPIE     DERECHO   \n",
       "29       ADUCTORES                           2B ADUCTOR LARGO IZQ   IZQUIERDO   \n",
       "42             NaN                                            NaN         NaN   \n",
       "43             NaN                                            NaN         NaN   \n",
       "44             NaN                                            NaN         NaN   \n",
       "45             NaN                                            NaN         NaN   \n",
       "46             NaN                                            NaN         NaN   \n",
       "47             NaN                                            NaN         NaN   \n",
       "48             NaN                                            NaN         NaN   \n",
       "49             NaN                                            NaN         NaN   \n",
       "50             NaN                                            NaN         NaN   \n",
       "51             NaN                                            NaN         NaN   \n",
       "52             NaN                                            NaN         NaN   \n",
       "53             NaN                                            NaN         NaN   \n",
       "54             NaN                                            NaN         NaN   \n",
       "55             NaN                                            NaN         NaN   \n",
       "56             NaN                                            NaN         NaN   \n",
       "57             NaN                                            NaN         NaN   \n",
       "\n",
       "    dias_fuera  \n",
       "24      -45922  \n",
       "25      -45922  \n",
       "26      -45905  \n",
       "27      -45863  \n",
       "28      -45945  \n",
       "29      -45927  \n",
       "42           0  \n",
       "43           0  \n",
       "44           0  \n",
       "45           0  \n",
       "46           0  \n",
       "47           0  \n",
       "48           0  \n",
       "49           0  \n",
       "50           0  \n",
       "51           0  \n",
       "52           0  \n",
       "53           0  \n",
       "54           0  \n",
       "55           0  \n",
       "56           0  \n",
       "57           0  "
      ]
     },
     "execution_count": 8,
     "metadata": {},
     "output_type": "execute_result"
    }
   ],
   "source": [
    "# Ver filas con valores faltantes\n",
    "df[df.isnull().any(axis=1)]"
   ]
  },
  {
   "cell_type": "code",
   "execution_count": 9,
   "id": "48952aa2",
   "metadata": {},
   "outputs": [
    {
     "data": {
      "text/plain": [
       "20"
      ]
     },
     "execution_count": 9,
     "metadata": {},
     "output_type": "execute_result"
    }
   ],
   "source": [
    "# Cuantos jugadores distintos tengo\n",
    "df['jugador'].nunique()"
   ]
  },
  {
   "cell_type": "code",
   "execution_count": 10,
   "id": "6c4785b5",
   "metadata": {},
   "outputs": [
    {
     "data": {
      "text/plain": [
       "array(['CASTET FACUNDO', 'GIMENEZ TOMAS', 'GIMENEZ AGUSTIN',\n",
       "       'THALLER NICOLAS', 'LAGO IGNACIO', 'TALPONE NICOLAS',\n",
       "       'GARCIA CRISTIAN', 'CASTRO FACUNDO', 'RODRIGUEZ LUIS MIGUEL',\n",
       "       'SOTO GONZALO', 'GIGLIOTTI EMMANUEL', 'BETTINI GONZALO',\n",
       "       'GALLAY TOMAS', 'IBARRA CONRADO', 'YUNIS ZAHIR',\n",
       "       'BERNARDI CRISTIAN', 'JOURDAN FEDERICO', 'SANCHEZ FACUNDO',\n",
       "       'gaitan lautaro', 'GAITAN LAUTARO', nan], dtype=object)"
      ]
     },
     "execution_count": 10,
     "metadata": {},
     "output_type": "execute_result"
    }
   ],
   "source": [
    "# Nombre de esos jugadores\n",
    "df['jugador'].unique()"
   ]
  },
  {
   "cell_type": "code",
   "execution_count": 14,
   "id": "a092db3e",
   "metadata": {},
   "outputs": [],
   "source": [
    "# Copia de seguridad\n",
    "df['jugador_original'] = df['jugador']"
   ]
  },
  {
   "cell_type": "code",
   "execution_count": 15,
   "id": "4b82e037",
   "metadata": {},
   "outputs": [],
   "source": [
    "# Normaliar formato\n",
    "df['jugador'] = df['jugador'].str.title().str.strip()"
   ]
  },
  {
   "cell_type": "code",
   "execution_count": 16,
   "id": "e9b258a2",
   "metadata": {},
   "outputs": [
    {
     "data": {
      "text/plain": [
       "array(['Castet Facundo', 'Gimenez Tomas', 'Gimenez Agustin',\n",
       "       'Thaller Nicolas', 'Lago Ignacio', 'Talpone Nicolas',\n",
       "       'Garcia Cristian', 'Castro Facundo', 'Rodriguez Luis Miguel',\n",
       "       'Soto Gonzalo', 'Gigliotti Emmanuel', 'Bettini Gonzalo',\n",
       "       'Gallay Tomas', 'Ibarra Conrado', 'Yunis Zahir',\n",
       "       'Bernardi Cristian', 'Jourdan Federico', 'Sanchez Facundo',\n",
       "       'Gaitan Lautaro', nan], dtype=object)"
      ]
     },
     "execution_count": 16,
     "metadata": {},
     "output_type": "execute_result"
    }
   ],
   "source": [
    "# Como quedo el df\n",
    "df['jugador'].unique()"
   ]
  },
  {
   "cell_type": "code",
   "execution_count": 17,
   "id": "9c8012ea",
   "metadata": {},
   "outputs": [
    {
     "data": {
      "text/plain": [
       "jugador\n",
       "Castet Facundo           5\n",
       "Lago Ignacio             4\n",
       "Ibarra Conrado           4\n",
       "Rodriguez Luis Miguel    3\n",
       "Gimenez Agustin          3\n",
       "Thaller Nicolas          3\n",
       "Bernardi Cristian        2\n",
       "Gimenez Tomas            2\n",
       "Soto Gonzalo             2\n",
       "Castro Facundo           2\n",
       "Garcia Cristian          2\n",
       "Talpone Nicolas          2\n",
       "Gaitan Lautaro           2\n",
       "Name: count, dtype: int64"
      ]
     },
     "execution_count": 17,
     "metadata": {},
     "output_type": "execute_result"
    }
   ],
   "source": [
    "# Jugadores con mas de una lesion\n",
    "conteo = df['jugador'].value_counts()\n",
    "conteo[conteo > 1]"
   ]
  },
  {
   "cell_type": "code",
   "execution_count": 19,
   "id": "89eadd44",
   "metadata": {},
   "outputs": [],
   "source": [
    "# Revisar valores de dias de baja\n",
    "today = pd.Timestamp(datetime.today().date())\n",
    "\n",
    "# Calcular días de baja correctamente\n",
    "df[\"dias_fuera\"] = (\n",
    "    df[\"fecha_de_alta\"].fillna(today) - df[\"fecha\"]\n",
    ").dt.days\n",
    "\n",
    "# Si hay valores negativos, los dejamos como NaN\n",
    "df.loc[df[\"dias_fuera\"] < 0, \"dias_fuera\"] = None\n"
   ]
  },
  {
   "cell_type": "code",
   "execution_count": 20,
   "id": "bc107202",
   "metadata": {},
   "outputs": [
    {
     "name": "stdout",
     "output_type": "stream",
     "text": [
      "✅ Archivo limpio guardado en:\n",
      "/Users/agustin/Documents/Agustin_2025/Juan Colon/data/lesiones_clean.csv\n"
     ]
    }
   ],
   "source": [
    "output_path = \"/Users/agustin/Documents/Agustin_2025/Juan Colon/data/lesiones_clean.csv\"\n",
    "df.to_csv(output_path, index=False, encoding=\"utf-8\")\n",
    "print(f\"✅ Archivo limpio guardado en:\\n{output_path}\")\n"
   ]
  }
 ],
 "metadata": {
  "kernelspec": {
   "display_name": "Python 3",
   "language": "python",
   "name": "python3"
  },
  "language_info": {
   "codemirror_mode": {
    "name": "ipython",
    "version": 3
   },
   "file_extension": ".py",
   "mimetype": "text/x-python",
   "name": "python",
   "nbconvert_exporter": "python",
   "pygments_lexer": "ipython3",
   "version": "3.13.0"
  }
 },
 "nbformat": 4,
 "nbformat_minor": 5
}
